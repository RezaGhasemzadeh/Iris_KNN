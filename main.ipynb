{
 "cells": [
  {
   "cell_type": "code",
   "execution_count": 25,
   "id": "224af30e",
   "metadata": {},
   "outputs": [],
   "source": [
    "import pandas as pd\n",
    "from sklearn.model_selection import train_test_split\n",
    "from sklearn.neighbors import KNeighborsClassifier"
   ]
  },
  {
   "cell_type": "code",
   "execution_count": 33,
   "id": "aa7af26e",
   "metadata": {},
   "outputs": [],
   "source": [
    "def load_data():\n",
    "    dataset = pd.read_csv(\"iris.csv\")\n",
    "    dataset.rename(columns = {\"variety\":\"label\"}, inplace=True)\n",
    "\n",
    "    # Seperating the data and the label in dataframe\n",
    "    data = dataset.iloc[:, 0:4]\n",
    "    label = dataset.label\n",
    "\n",
    "    # Divide our data into two parts, Train and Test\n",
    "    f_train, f_test, l_train, l_test = train_test_split(data, label, test_size=0.2)\n",
    "    \n",
    "    return f_train, f_test, l_train, l_test"
   ]
  },
  {
   "cell_type": "code",
   "execution_count": 34,
   "id": "7e020d79",
   "metadata": {},
   "outputs": [],
   "source": [
    "def train():\n",
    "    f_train, f_test, l_train, l_test = load_data()\n",
    "    clf = KNeighborsClassifier(n_neighbors=5)\n",
    "    clf.fit(f_train, l_train)\n",
    "    return clf\n",
    "    \n",
    "\n",
    "clf = train()\n",
    "l_pred = clf.predict(f_test)\n"
   ]
  },
  {
   "cell_type": "code",
   "execution_count": null,
   "id": "4f9be5da",
   "metadata": {},
   "outputs": [],
   "source": []
  }
 ],
 "metadata": {
  "kernelspec": {
   "display_name": "Python 3 (ipykernel)",
   "language": "python",
   "name": "python3"
  },
  "language_info": {
   "codemirror_mode": {
    "name": "ipython",
    "version": 3
   },
   "file_extension": ".py",
   "mimetype": "text/x-python",
   "name": "python",
   "nbconvert_exporter": "python",
   "pygments_lexer": "ipython3",
   "version": "3.10.9"
  }
 },
 "nbformat": 4,
 "nbformat_minor": 5
}
